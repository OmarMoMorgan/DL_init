{
 "cells": [
  {
   "cell_type": "code",
   "execution_count": 1,
   "id": "ace3fd30",
   "metadata": {
    "_cell_guid": "b1076dfc-b9ad-4769-8c92-a6c4dae69d19",
    "_uuid": "8f2839f25d086af736a60e9eeb907d3b93b6e0e5",
    "execution": {
     "iopub.execute_input": "2024-04-20T04:55:40.218103Z",
     "iopub.status.busy": "2024-04-20T04:55:40.217786Z",
     "iopub.status.idle": "2024-04-20T04:55:41.720484Z",
     "shell.execute_reply": "2024-04-20T04:55:41.719463Z"
    },
    "id": "81a13a72",
    "outputId": "b84f69b5-c559-4dee-a4dd-1956e6bcda75",
    "papermill": {
     "duration": 1.515591,
     "end_time": "2024-04-20T04:55:41.722858",
     "exception": false,
     "start_time": "2024-04-20T04:55:40.207267",
     "status": "completed"
    },
    "tags": []
   },
   "outputs": [
    {
     "name": "stdout",
     "output_type": "stream",
     "text": [
      "Cloning into 'DL_init'...\r\n",
      "remote: Enumerating objects: 68, done.\u001b[K\r\n",
      "remote: Counting objects: 100% (68/68), done.\u001b[K\r\n",
      "remote: Compressing objects: 100% (54/54), done.\u001b[K\r\n",
      "remote: Total 68 (delta 23), reused 57 (delta 12), pack-reused 0\u001b[K\r\n",
      "Unpacking objects: 100% (68/68), 24.80 KiB | 1.30 MiB/s, done.\r\n"
     ]
    }
   ],
   "source": [
    "!git clone https://github.com/OmarMoMorgan/DL_init.git"
   ]
  },
  {
   "cell_type": "code",
   "execution_count": 2,
   "id": "3d3e7a43",
   "metadata": {
    "execution": {
     "iopub.execute_input": "2024-04-20T04:55:41.744544Z",
     "iopub.status.busy": "2024-04-20T04:55:41.743883Z",
     "iopub.status.idle": "2024-04-20T04:55:48.354838Z",
     "shell.execute_reply": "2024-04-20T04:55:48.354045Z"
    },
    "id": "4a270476",
    "papermill": {
     "duration": 6.624633,
     "end_time": "2024-04-20T04:55:48.357199",
     "exception": false,
     "start_time": "2024-04-20T04:55:41.732566",
     "status": "completed"
    },
    "tags": []
   },
   "outputs": [],
   "source": [
    "from torchvision.datasets import CIFAR10\n",
    "from  torch.utils.data import DataLoader,Dataset\n",
    "from torch import nn , optim\n",
    "import torch\n",
    "import pandas as pd\n"
   ]
  },
  {
   "cell_type": "code",
   "execution_count": 3,
   "id": "31264fef",
   "metadata": {
    "execution": {
     "iopub.execute_input": "2024-04-20T04:55:48.376288Z",
     "iopub.status.busy": "2024-04-20T04:55:48.375849Z",
     "iopub.status.idle": "2024-04-20T04:55:49.866159Z",
     "shell.execute_reply": "2024-04-20T04:55:49.865326Z"
    },
    "id": "2be6ca5f",
    "papermill": {
     "duration": 1.502243,
     "end_time": "2024-04-20T04:55:49.868530",
     "exception": false,
     "start_time": "2024-04-20T04:55:48.366287",
     "status": "completed"
    },
    "tags": []
   },
   "outputs": [],
   "source": [
    "import sys\n",
    "sys.path.append('/kaggle/working/DL_init')\n",
    "from models import build_model\n",
    "from tools import EarlyStopping, tune_model\n",
    "from data import train_test_split_ , perPixel_mean_std, perChannel_mean_std, build_transforms"
   ]
  },
  {
   "cell_type": "code",
   "execution_count": 4,
   "id": "f29f8128",
   "metadata": {
    "execution": {
     "iopub.execute_input": "2024-04-20T04:55:49.887990Z",
     "iopub.status.busy": "2024-04-20T04:55:49.887570Z",
     "iopub.status.idle": "2024-04-20T04:55:49.894455Z",
     "shell.execute_reply": "2024-04-20T04:55:49.893550Z"
    },
    "id": "e62848f7",
    "papermill": {
     "duration": 0.018427,
     "end_time": "2024-04-20T04:55:49.896343",
     "exception": false,
     "start_time": "2024-04-20T04:55:49.877916",
     "status": "completed"
    },
    "tags": []
   },
   "outputs": [],
   "source": [
    "class MyDataset(Dataset):\n",
    "    def __init__(self,x,y,transforms = None):\n",
    "        self.x = x\n",
    "        self.y = y\n",
    "        self.transforms = transforms\n",
    "    def __len__(self):\n",
    "        return len(self.y)\n",
    "    def __getitem__(self,idx):\n",
    "        if self.transforms is not None:\n",
    "            x= self.transforms(image= self.x[idx])['image']\n",
    "            return x.type(torch.float32),self.y[idx]\n",
    "\n",
    "        return self.x[idx],self.y[idx]"
   ]
  },
  {
   "cell_type": "code",
   "execution_count": 5,
   "id": "981c91d7",
   "metadata": {
    "execution": {
     "iopub.execute_input": "2024-04-20T04:55:49.915047Z",
     "iopub.status.busy": "2024-04-20T04:55:49.914748Z",
     "iopub.status.idle": "2024-04-20T04:56:00.117479Z",
     "shell.execute_reply": "2024-04-20T04:56:00.116571Z"
    },
    "id": "34baa5ba",
    "outputId": "7d6d5bc3-51e0-44ac-87a6-7907f45645ac",
    "papermill": {
     "duration": 10.21506,
     "end_time": "2024-04-20T04:56:00.120174",
     "exception": false,
     "start_time": "2024-04-20T04:55:49.905114",
     "status": "completed"
    },
    "tags": []
   },
   "outputs": [
    {
     "name": "stdout",
     "output_type": "stream",
     "text": [
      "Downloading https://www.cs.toronto.edu/~kriz/cifar-10-python.tar.gz to ./data/cifar-10-python.tar.gz\n"
     ]
    },
    {
     "name": "stderr",
     "output_type": "stream",
     "text": [
      "100%|██████████| 170498071/170498071 [00:02<00:00, 84868540.79it/s]\n"
     ]
    },
    {
     "name": "stdout",
     "output_type": "stream",
     "text": [
      "Extracting ./data/cifar-10-python.tar.gz to ./data\n",
      "Downloading https://www.cs.toronto.edu/~kriz/cifar-10-python.tar.gz to /data/cifar-10-python.tar.gz\n"
     ]
    },
    {
     "name": "stderr",
     "output_type": "stream",
     "text": [
      "100%|██████████| 170498071/170498071 [00:02<00:00, 57382753.22it/s]\n"
     ]
    },
    {
     "name": "stdout",
     "output_type": "stream",
     "text": [
      "Extracting /data/cifar-10-python.tar.gz to /data\n"
     ]
    }
   ],
   "source": [
    "train_data  = CIFAR10(root='./data',train = True,download = True)\n",
    "test_data = CIFAR10(root='/data',train=False,download = True)\n"
   ]
  },
  {
   "cell_type": "code",
   "execution_count": 6,
   "id": "7abdbc6a",
   "metadata": {
    "execution": {
     "iopub.execute_input": "2024-04-20T04:56:00.151390Z",
     "iopub.status.busy": "2024-04-20T04:56:00.151039Z",
     "iopub.status.idle": "2024-04-20T04:56:00.234996Z",
     "shell.execute_reply": "2024-04-20T04:56:00.234108Z"
    },
    "id": "3bb9e903",
    "outputId": "066fac6b-e11b-40dc-b856-c07efba10ff7",
    "papermill": {
     "duration": 0.102052,
     "end_time": "2024-04-20T04:56:00.237146",
     "exception": false,
     "start_time": "2024-04-20T04:56:00.135094",
     "status": "completed"
    },
    "tags": []
   },
   "outputs": [
    {
     "data": {
      "text/plain": [
       "((45000, 32, 32, 3), (5000, 32, 32, 3))"
      ]
     },
     "execution_count": 6,
     "metadata": {},
     "output_type": "execute_result"
    }
   ],
   "source": [
    "# make a validation set\n",
    "config= {'random_state' : 42,\n",
    "          'shuffle':True,\n",
    "         'train_size':0.9 }\n",
    "X_train, X_val, y_train, y_val= train_test_split_(train_data.data,train_data.targets,config)\n",
    "X_train.shape,X_val.shape"
   ]
  },
  {
   "cell_type": "markdown",
   "id": "d02dc900",
   "metadata": {
    "execution": {
     "iopub.execute_input": "2024-04-07T13:21:28.448917Z",
     "iopub.status.busy": "2024-04-07T13:21:28.448523Z",
     "iopub.status.idle": "2024-04-07T13:21:28.457820Z",
     "shell.execute_reply": "2024-04-07T13:21:28.456614Z",
     "shell.execute_reply.started": "2024-04-07T13:21:28.448887Z"
    },
    "id": "a4350e96",
    "papermill": {
     "duration": 0.050736,
     "end_time": "2024-04-20T04:56:00.301438",
     "exception": false,
     "start_time": "2024-04-20T04:56:00.250702",
     "status": "completed"
    },
    "tags": []
   },
   "source": [
    "```python\n",
    "# stratify to keep the ratio 0.9 for every class in the trainined and testing\n",
    "import numpy as np\n",
    "uni, counts = np.unique(y_val, return_counts=True)\n",
    "counts\n",
    "```"
   ]
  },
  {
   "cell_type": "code",
   "execution_count": 7,
   "id": "9601f57b",
   "metadata": {
    "execution": {
     "iopub.execute_input": "2024-04-20T04:56:00.376417Z",
     "iopub.status.busy": "2024-04-20T04:56:00.376048Z",
     "iopub.status.idle": "2024-04-20T04:56:01.199374Z",
     "shell.execute_reply": "2024-04-20T04:56:01.198380Z"
    },
    "id": "35ed049e",
    "outputId": "9d5364c2-c107-4b71-f9cc-4f91f22e7d95",
    "papermill": {
     "duration": 0.854114,
     "end_time": "2024-04-20T04:56:01.202148",
     "exception": false,
     "start_time": "2024-04-20T04:56:00.348034",
     "status": "completed"
    },
    "tags": []
   },
   "outputs": [
    {
     "data": {
      "text/plain": [
       "(array([125.24002457, 122.93835269, 113.84449184]),\n",
       " array([62.95162973, 62.07468216, 66.70886545]))"
      ]
     },
     "execution_count": 7,
     "metadata": {},
     "output_type": "execute_result"
    }
   ],
   "source": [
    "mean_,std_ = perChannel_mean_std(X_train,'NHWC')\n",
    "mean_,std_"
   ]
  },
  {
   "cell_type": "code",
   "execution_count": 8,
   "id": "58d7e27c",
   "metadata": {
    "execution": {
     "iopub.execute_input": "2024-04-20T04:56:01.236585Z",
     "iopub.status.busy": "2024-04-20T04:56:01.235813Z",
     "iopub.status.idle": "2024-04-20T04:56:01.241905Z",
     "shell.execute_reply": "2024-04-20T04:56:01.240964Z"
    },
    "id": "e878de55",
    "papermill": {
     "duration": 0.024334,
     "end_time": "2024-04-20T04:56:01.243941",
     "exception": false,
     "start_time": "2024-04-20T04:56:01.219607",
     "status": "completed"
    },
    "tags": []
   },
   "outputs": [],
   "source": [
    "train_tansforms,test_transforms = build_transforms('pipeline1',{'mean':mean_,\n",
    "                                                                 'std':std_})"
   ]
  },
  {
   "cell_type": "code",
   "execution_count": 9,
   "id": "8e29f9ce",
   "metadata": {
    "execution": {
     "iopub.execute_input": "2024-04-20T04:56:01.274733Z",
     "iopub.status.busy": "2024-04-20T04:56:01.274444Z",
     "iopub.status.idle": "2024-04-20T04:56:01.281311Z",
     "shell.execute_reply": "2024-04-20T04:56:01.280350Z"
    },
    "id": "ffd32cba",
    "papermill": {
     "duration": 0.024833,
     "end_time": "2024-04-20T04:56:01.283359",
     "exception": false,
     "start_time": "2024-04-20T04:56:01.258526",
     "status": "completed"
    },
    "tags": []
   },
   "outputs": [],
   "source": [
    "trainset = MyDataset(X_train,y_train,train_tansforms)\n",
    "trainloader_ = DataLoader(trainset,batch_size=128, shuffle=True)\n",
    "\n",
    "valset = MyDataset(X_val,y_val,test_transforms)\n",
    "valloader_ = DataLoader(trainset,batch_size=1024, shuffle=False)\n",
    "\n",
    "testset = MyDataset(test_data.data,test_data.targets,test_transforms)\n",
    "testloader_ = DataLoader(testset,batch_size=512, shuffle=False)"
   ]
  },
  {
   "cell_type": "code",
   "execution_count": 10,
   "id": "3cf417cb",
   "metadata": {
    "execution": {
     "iopub.execute_input": "2024-04-20T04:56:01.316145Z",
     "iopub.status.busy": "2024-04-20T04:56:01.315820Z",
     "iopub.status.idle": "2024-04-20T04:56:01.395838Z",
     "shell.execute_reply": "2024-04-20T04:56:01.394903Z"
    },
    "id": "da019d93",
    "outputId": "a7b88cf5-39db-4081-a221-6718bbb2af18",
    "papermill": {
     "duration": 0.098171,
     "end_time": "2024-04-20T04:56:01.397805",
     "exception": false,
     "start_time": "2024-04-20T04:56:01.299634",
     "status": "completed"
    },
    "tags": []
   },
   "outputs": [
    {
     "data": {
      "text/plain": [
       "'cuda'"
      ]
     },
     "execution_count": 10,
     "metadata": {},
     "output_type": "execute_result"
    }
   ],
   "source": [
    "device= 'cuda' if torch.cuda.is_available() else 'cpu'\n",
    "device"
   ]
  },
  {
   "cell_type": "markdown",
   "id": "6303d0ec",
   "metadata": {
    "id": "083f13f5",
    "papermill": {
     "duration": 0.013424,
     "end_time": "2024-04-20T04:56:01.424813",
     "exception": false,
     "start_time": "2024-04-20T04:56:01.411389",
     "status": "completed"
    },
    "tags": []
   },
   "source": [
    "## For n = 5 groups = 1 for the first arch"
   ]
  },
  {
   "cell_type": "code",
   "execution_count": 11,
   "id": "00c71b29",
   "metadata": {
    "execution": {
     "iopub.execute_input": "2024-04-20T04:56:01.452805Z",
     "iopub.status.busy": "2024-04-20T04:56:01.452520Z",
     "iopub.status.idle": "2024-04-20T04:56:01.685798Z",
     "shell.execute_reply": "2024-04-20T04:56:01.684818Z"
    },
    "id": "3d2ccba1",
    "papermill": {
     "duration": 0.250093,
     "end_time": "2024-04-20T04:56:01.688245",
     "exception": false,
     "start_time": "2024-04-20T04:56:01.438152",
     "status": "completed"
    },
    "tags": []
   },
   "outputs": [],
   "source": [
    "model = build_model('sub_CNN',[5,5,5],1,[16,32,62])\n",
    "model.to(device)\n",
    "loss = nn.CrossEntropyLoss()\n",
    "optimizer = optim.Adam(model.parameters(),lr= 0.001)\n",
    "scheduler = optim.lr_scheduler.ReduceLROnPlateau(optimizer,'min',patience = 5,factor = 0.1,verbose=True)\n",
    "earlystopping = EarlyStopping()"
   ]
  },
  {
   "cell_type": "code",
   "execution_count": 12,
   "id": "2d553413",
   "metadata": {
    "execution": {
     "iopub.execute_input": "2024-04-20T04:56:01.716725Z",
     "iopub.status.busy": "2024-04-20T04:56:01.716412Z",
     "iopub.status.idle": "2024-04-20T05:44:24.641900Z",
     "shell.execute_reply": "2024-04-20T05:44:24.640939Z"
    },
    "id": "7750d4d7",
    "outputId": "31cb0937-ddbe-4376-9d3c-135af8ab9a0c",
    "papermill": {
     "duration": 2902.956359,
     "end_time": "2024-04-20T05:44:24.658338",
     "exception": false,
     "start_time": "2024-04-20T04:56:01.701979",
     "status": "completed"
    },
    "tags": []
   },
   "outputs": [
    {
     "name": "stdout",
     "output_type": "stream",
     "text": [
      "For epoch   4 || Training Loss 0.683 || acc 0.759 || Testing Loss 0.670 || Test acc 0.766\n",
      "For epoch   9 || Training Loss 0.482 || acc 0.833 || Testing Loss 0.472 || Test acc 0.837\n",
      "For epoch  14 || Training Loss 0.388 || acc 0.865 || Testing Loss 0.370 || Test acc 0.872\n",
      "For epoch  19 || Training Loss 0.323 || acc 0.888 || Testing Loss 0.336 || Test acc 0.883\n",
      "For epoch  24 || Training Loss 0.274 || acc 0.904 || Testing Loss 0.264 || Test acc 0.909\n",
      "For epoch  29 || Training Loss 0.236 || acc 0.918 || Testing Loss 0.213 || Test acc 0.928\n",
      "For epoch  34 || Training Loss 0.203 || acc 0.928 || Testing Loss 0.183 || Test acc 0.936\n",
      "For epoch  39 || Training Loss 0.182 || acc 0.936 || Testing Loss 0.166 || Test acc 0.941\n",
      "For epoch  44 || Training Loss 0.165 || acc 0.942 || Testing Loss 0.193 || Test acc 0.932\n",
      "Early Stopping Activated\n"
     ]
    }
   ],
   "source": [
    "hist_= tune_model(100,model,trainloader_,valloader_,\\\n",
    "               loss,optimizer,device,scheduler,earlystopping=earlystopping)"
   ]
  },
  {
   "cell_type": "code",
   "execution_count": 13,
   "id": "08cc4828",
   "metadata": {
    "execution": {
     "iopub.execute_input": "2024-04-20T05:44:24.688950Z",
     "iopub.status.busy": "2024-04-20T05:44:24.688643Z",
     "iopub.status.idle": "2024-04-20T05:44:24.722233Z",
     "shell.execute_reply": "2024-04-20T05:44:24.721254Z"
    },
    "id": "4c77b1f6",
    "outputId": "ce263d80-513d-40da-c849-5a9dfc1acab5",
    "papermill": {
     "duration": 0.05145,
     "end_time": "2024-04-20T05:44:24.724272",
     "exception": false,
     "start_time": "2024-04-20T05:44:24.672822",
     "status": "completed"
    },
    "tags": []
   },
   "outputs": [
    {
     "name": "stdout",
     "output_type": "stream",
     "text": [
      "best loss is 0.15825225175781685\n"
     ]
    }
   ],
   "source": [
    "print('best loss is',earlystopping.best_loss)\n",
    "torch.save(earlystopping.best_model, './mod_res5_g1')\n",
    "\n",
    "try:\n",
    "    df = pd.DataFrame.from_dict(hist_)\n",
    "    df.to_csv('mod_res3_g1.csv', index=False)\n",
    "\n",
    "except:\n",
    "    print('failed')\n",
    "\n"
   ]
  },
  {
   "cell_type": "markdown",
   "id": "882c52cb",
   "metadata": {
    "id": "676f3321",
    "papermill": {
     "duration": 0.014575,
     "end_time": "2024-04-20T05:44:24.754113",
     "exception": false,
     "start_time": "2024-04-20T05:44:24.739538",
     "status": "completed"
    },
    "tags": []
   },
   "source": [
    "## For n = 5 groups = 4 second arch"
   ]
  },
  {
   "cell_type": "code",
   "execution_count": 14,
   "id": "e388435e",
   "metadata": {
    "execution": {
     "iopub.execute_input": "2024-04-20T05:44:24.784533Z",
     "iopub.status.busy": "2024-04-20T05:44:24.784259Z",
     "iopub.status.idle": "2024-04-20T05:44:24.808189Z",
     "shell.execute_reply": "2024-04-20T05:44:24.807253Z"
    },
    "id": "27629a29",
    "papermill": {
     "duration": 0.041253,
     "end_time": "2024-04-20T05:44:24.809997",
     "exception": false,
     "start_time": "2024-04-20T05:44:24.768744",
     "status": "completed"
    },
    "tags": []
   },
   "outputs": [],
   "source": [
    "model = build_model('sub_CNN',[5,5,5],4,[16,32,64])\n",
    "model.to(device)\n",
    "loss = nn.CrossEntropyLoss()\n",
    "optimizer = optim.Adam(model.parameters(),lr= 0.001)\n",
    "scheduler = optim.lr_scheduler.ReduceLROnPlateau(optimizer,'min',patience = 5,factor = 0.1,verbose=True)\n",
    "earlystopping = EarlyStopping()"
   ]
  },
  {
   "cell_type": "code",
   "execution_count": 15,
   "id": "e59740fb",
   "metadata": {
    "execution": {
     "iopub.execute_input": "2024-04-20T05:44:24.840007Z",
     "iopub.status.busy": "2024-04-20T05:44:24.839753Z",
     "iopub.status.idle": "2024-04-20T06:22:39.966014Z",
     "shell.execute_reply": "2024-04-20T06:22:39.964956Z"
    },
    "id": "0377097c",
    "outputId": "2c62b468-cf54-4f8e-cc0e-5997c45b5b67",
    "papermill": {
     "duration": 2295.159141,
     "end_time": "2024-04-20T06:22:39.983792",
     "exception": false,
     "start_time": "2024-04-20T05:44:24.824651",
     "status": "completed"
    },
    "tags": []
   },
   "outputs": [
    {
     "name": "stdout",
     "output_type": "stream",
     "text": [
      "For epoch   4 || Training Loss 0.909 || acc 0.684 || Testing Loss 0.981 || Test acc 0.662\n",
      "For epoch   9 || Training Loss 0.736 || acc 0.745 || Testing Loss 0.707 || Test acc 0.754\n",
      "For epoch  14 || Training Loss 0.645 || acc 0.776 || Testing Loss 0.657 || Test acc 0.772\n",
      "For epoch  19 || Training Loss 0.588 || acc 0.796 || Testing Loss 0.565 || Test acc 0.803\n",
      "For epoch  24 || Training Loss 0.532 || acc 0.815 || Testing Loss 0.537 || Test acc 0.812\n",
      "For epoch  29 || Training Loss 0.492 || acc 0.829 || Testing Loss 0.504 || Test acc 0.821\n",
      "For epoch  34 || Training Loss 0.466 || acc 0.837 || Testing Loss 0.464 || Test acc 0.839\n",
      "Early Stopping Activated\n"
     ]
    }
   ],
   "source": [
    "hist_= tune_model(100,model,trainloader_,valloader_,\\\n",
    "               loss,optimizer,device,scheduler,earlystopping=earlystopping)"
   ]
  },
  {
   "cell_type": "code",
   "execution_count": 16,
   "id": "bd38d8b1",
   "metadata": {
    "execution": {
     "iopub.execute_input": "2024-04-20T06:22:40.016130Z",
     "iopub.status.busy": "2024-04-20T06:22:40.015811Z",
     "iopub.status.idle": "2024-04-20T06:22:40.040030Z",
     "shell.execute_reply": "2024-04-20T06:22:40.038983Z"
    },
    "id": "9b42b25e",
    "outputId": "92a2e27b-a7a5-44b0-d807-1064f329f730",
    "papermill": {
     "duration": 0.042779,
     "end_time": "2024-04-20T06:22:40.041987",
     "exception": false,
     "start_time": "2024-04-20T06:22:39.999208",
     "status": "completed"
    },
    "tags": []
   },
   "outputs": [
    {
     "name": "stdout",
     "output_type": "stream",
     "text": [
      "best loss is 0.45523006265813654\n"
     ]
    }
   ],
   "source": [
    "print('best loss is',earlystopping.best_loss)\n",
    "torch.save(earlystopping.best_model, './mod_res5_g4')\n",
    "\n",
    "try:\n",
    "    df = pd.DataFrame.from_dict(hist_)\n",
    "    df.to_csv('mod_res5_g4.csv', index=False)\n",
    "\n",
    "except:\n",
    "    print('failed')\n",
    "\n"
   ]
  },
  {
   "cell_type": "markdown",
   "id": "db36fce0",
   "metadata": {
    "papermill": {
     "duration": 0.015098,
     "end_time": "2024-04-20T06:22:40.072481",
     "exception": false,
     "start_time": "2024-04-20T06:22:40.057383",
     "status": "completed"
    },
    "tags": []
   },
   "source": [
    "## for n = 5 wider filters third arch"
   ]
  },
  {
   "cell_type": "code",
   "execution_count": 17,
   "id": "005d11f4",
   "metadata": {
    "execution": {
     "iopub.execute_input": "2024-04-20T06:22:40.104586Z",
     "iopub.status.busy": "2024-04-20T06:22:40.104294Z",
     "iopub.status.idle": "2024-04-20T06:22:40.133774Z",
     "shell.execute_reply": "2024-04-20T06:22:40.133103Z"
    },
    "papermill": {
     "duration": 0.047834,
     "end_time": "2024-04-20T06:22:40.135661",
     "exception": false,
     "start_time": "2024-04-20T06:22:40.087827",
     "status": "completed"
    },
    "tags": []
   },
   "outputs": [],
   "source": [
    "model = build_model('sub_CNN',[5,5,5],3,[33,63,129])\n",
    "model.to(device)\n",
    "loss = nn.CrossEntropyLoss()\n",
    "optimizer = optim.Adam(model.parameters(),lr= 0.001)\n",
    "scheduler = optim.lr_scheduler.ReduceLROnPlateau(optimizer,'min',patience = 5,factor = 0.1,verbose=True)\n",
    "earlystopping = EarlyStopping()"
   ]
  },
  {
   "cell_type": "code",
   "execution_count": 18,
   "id": "d5cc3d00",
   "metadata": {
    "execution": {
     "iopub.execute_input": "2024-04-20T06:22:40.167609Z",
     "iopub.status.busy": "2024-04-20T06:22:40.166940Z",
     "iopub.status.idle": "2024-04-20T07:58:58.787854Z",
     "shell.execute_reply": "2024-04-20T07:58:58.786724Z"
    },
    "papermill": {
     "duration": 5778.658363,
     "end_time": "2024-04-20T07:58:58.809387",
     "exception": false,
     "start_time": "2024-04-20T06:22:40.151024",
     "status": "completed"
    },
    "tags": []
   },
   "outputs": [
    {
     "name": "stdout",
     "output_type": "stream",
     "text": [
      "For epoch   4 || Training Loss 0.743 || acc 0.740 || Testing Loss 0.700 || Test acc 0.757\n",
      "For epoch   9 || Training Loss 0.546 || acc 0.811 || Testing Loss 0.525 || Test acc 0.819\n",
      "For epoch  14 || Training Loss 0.437 || acc 0.847 || Testing Loss 0.413 || Test acc 0.859\n",
      "For epoch  19 || Training Loss 0.362 || acc 0.875 || Testing Loss 0.383 || Test acc 0.866\n",
      "For epoch  24 || Training Loss 0.303 || acc 0.895 || Testing Loss 0.364 || Test acc 0.873\n",
      "For epoch  29 || Training Loss 0.263 || acc 0.908 || Testing Loss 0.260 || Test acc 0.908\n",
      "For epoch  34 || Training Loss 0.230 || acc 0.920 || Testing Loss 0.276 || Test acc 0.906\n",
      "For epoch  39 || Training Loss 0.203 || acc 0.928 || Testing Loss 0.216 || Test acc 0.925\n",
      "For epoch  44 || Training Loss 0.180 || acc 0.937 || Testing Loss 0.181 || Test acc 0.936\n",
      "For epoch  49 || Training Loss 0.167 || acc 0.941 || Testing Loss 0.154 || Test acc 0.946\n",
      "For epoch  54 || Training Loss 0.148 || acc 0.948 || Testing Loss 0.149 || Test acc 0.948\n",
      "Early Stopping Activated\n"
     ]
    }
   ],
   "source": [
    "hist_= tune_model(100,model,trainloader_,valloader_,\\\n",
    "               loss,optimizer,device,scheduler,earlystopping=earlystopping)"
   ]
  },
  {
   "cell_type": "code",
   "execution_count": 19,
   "id": "b767bc77",
   "metadata": {
    "execution": {
     "iopub.execute_input": "2024-04-20T07:58:58.847906Z",
     "iopub.status.busy": "2024-04-20T07:58:58.847556Z",
     "iopub.status.idle": "2024-04-20T07:58:58.879744Z",
     "shell.execute_reply": "2024-04-20T07:58:58.878619Z"
    },
    "papermill": {
     "duration": 0.053927,
     "end_time": "2024-04-20T07:58:58.881933",
     "exception": false,
     "start_time": "2024-04-20T07:58:58.828006",
     "status": "completed"
    },
    "tags": []
   },
   "outputs": [
    {
     "name": "stdout",
     "output_type": "stream",
     "text": [
      "best loss is 0.1318205495110967\n"
     ]
    }
   ],
   "source": [
    "print('best loss is',earlystopping.best_loss)\n",
    "torch.save(earlystopping.best_model, './mod_res5_g4_wide')\n",
    "\n",
    "try:\n",
    "    df = pd.DataFrame.from_dict(hist_)\n",
    "    df.to_csv('mod_res5_g4_wide.csv', index=False)\n",
    "\n",
    "except:\n",
    "    print('failed')"
   ]
  },
  {
   "cell_type": "markdown",
   "id": "bee5641f",
   "metadata": {
    "papermill": {
     "duration": 0.017404,
     "end_time": "2024-04-20T07:58:58.917414",
     "exception": false,
     "start_time": "2024-04-20T07:58:58.900010",
     "status": "completed"
    },
    "tags": []
   },
   "source": [
    "## for n = 7 wider arch model 4"
   ]
  },
  {
   "cell_type": "code",
   "execution_count": 20,
   "id": "de4d849a",
   "metadata": {
    "execution": {
     "iopub.execute_input": "2024-04-20T07:58:58.951529Z",
     "iopub.status.busy": "2024-04-20T07:58:58.951259Z",
     "iopub.status.idle": "2024-04-20T07:58:58.986780Z",
     "shell.execute_reply": "2024-04-20T07:58:58.985889Z"
    },
    "papermill": {
     "duration": 0.054442,
     "end_time": "2024-04-20T07:58:58.988771",
     "exception": false,
     "start_time": "2024-04-20T07:58:58.934329",
     "status": "completed"
    },
    "tags": []
   },
   "outputs": [],
   "source": [
    "model = build_model('sub_CNN',[7,7,7],4,[32,64,128])\n",
    "model.to(device)\n",
    "loss = nn.CrossEntropyLoss()\n",
    "optimizer = optim.Adam(model.parameters(),lr= 0.001)\n",
    "scheduler = optim.lr_scheduler.ReduceLROnPlateau(optimizer,'min',patience = 5,factor = 0.1,verbose=True)\n",
    "earlystopping = EarlyStopping()"
   ]
  },
  {
   "cell_type": "code",
   "execution_count": 21,
   "id": "6b5abef9",
   "metadata": {
    "execution": {
     "iopub.execute_input": "2024-04-20T07:58:59.022297Z",
     "iopub.status.busy": "2024-04-20T07:58:59.022013Z",
     "iopub.status.idle": "2024-04-20T09:37:06.577197Z",
     "shell.execute_reply": "2024-04-20T09:37:06.576179Z"
    },
    "papermill": {
     "duration": 5887.591979,
     "end_time": "2024-04-20T09:37:06.596791",
     "exception": false,
     "start_time": "2024-04-20T07:58:59.004812",
     "status": "completed"
    },
    "tags": []
   },
   "outputs": [
    {
     "name": "stdout",
     "output_type": "stream",
     "text": [
      "For epoch   4 || Training Loss 0.793 || acc 0.723 || Testing Loss 0.763 || Test acc 0.735\n",
      "For epoch   9 || Training Loss 0.594 || acc 0.793 || Testing Loss 0.659 || Test acc 0.773\n",
      "For epoch  14 || Training Loss 0.493 || acc 0.830 || Testing Loss 0.473 || Test acc 0.834\n",
      "For epoch  19 || Training Loss 0.414 || acc 0.856 || Testing Loss 0.407 || Test acc 0.858\n",
      "For epoch  24 || Training Loss 0.360 || acc 0.874 || Testing Loss 0.396 || Test acc 0.860\n",
      "For epoch  29 || Training Loss 0.311 || acc 0.892 || Testing Loss 0.305 || Test acc 0.894\n",
      "For epoch  34 || Training Loss 0.274 || acc 0.905 || Testing Loss 0.321 || Test acc 0.886\n",
      "For epoch  39 || Training Loss 0.240 || acc 0.916 || Testing Loss 0.231 || Test acc 0.920\n",
      "For epoch  44 || Training Loss 0.215 || acc 0.925 || Testing Loss 0.230 || Test acc 0.920\n",
      "For epoch  49 || Training Loss 0.198 || acc 0.929 || Testing Loss 0.190 || Test acc 0.934\n",
      "For epoch  54 || Training Loss 0.179 || acc 0.938 || Testing Loss 0.174 || Test acc 0.940\n",
      "Early Stopping Activated\n"
     ]
    }
   ],
   "source": [
    "hist_= tune_model(100,model,trainloader_,valloader_,\\\n",
    "               loss,optimizer,device,scheduler,earlystopping=earlystopping)"
   ]
  },
  {
   "cell_type": "code",
   "execution_count": 22,
   "id": "64f375d4",
   "metadata": {
    "execution": {
     "iopub.execute_input": "2024-04-20T09:37:06.632857Z",
     "iopub.status.busy": "2024-04-20T09:37:06.632581Z",
     "iopub.status.idle": "2024-04-20T09:37:06.665432Z",
     "shell.execute_reply": "2024-04-20T09:37:06.664413Z"
    },
    "papermill": {
     "duration": 0.053275,
     "end_time": "2024-04-20T09:37:06.667491",
     "exception": false,
     "start_time": "2024-04-20T09:37:06.614216",
     "status": "completed"
    },
    "tags": []
   },
   "outputs": [
    {
     "name": "stdout",
     "output_type": "stream",
     "text": [
      "best loss is 0.15574116869406265\n"
     ]
    }
   ],
   "source": [
    "print('best loss is',earlystopping.best_loss)\n",
    "torch.save(earlystopping.best_model, './sub_cnn_4')\n",
    "\n",
    "try:\n",
    "    df = pd.DataFrame.from_dict(hist_)\n",
    "    df.to_csv('sub_cnn_4.csv', index=False)\n",
    "\n",
    "except:\n",
    "    print('failed')"
   ]
  },
  {
   "cell_type": "markdown",
   "id": "694260ec",
   "metadata": {
    "papermill": {
     "duration": 0.017101,
     "end_time": "2024-04-20T09:37:06.702049",
     "exception": false,
     "start_time": "2024-04-20T09:37:06.684948",
     "status": "completed"
    },
    "tags": []
   },
   "source": [
    "# fine tunning\n",
    "in this part we shall try to fine tune a model based on a already pre trained model\\\n",
    "I will use for this part **Effiecent net** \\\n",
    "part 1: freeze all layers excpet the last one "
   ]
  },
  {
   "cell_type": "code",
   "execution_count": 23,
   "id": "fd9d1e07",
   "metadata": {
    "execution": {
     "iopub.execute_input": "2024-04-20T09:37:06.739763Z",
     "iopub.status.busy": "2024-04-20T09:37:06.739479Z",
     "iopub.status.idle": "2024-04-20T09:37:07.666665Z",
     "shell.execute_reply": "2024-04-20T09:37:07.665721Z"
    },
    "papermill": {
     "duration": 0.949918,
     "end_time": "2024-04-20T09:37:07.669644",
     "exception": false,
     "start_time": "2024-04-20T09:37:06.719726",
     "status": "completed"
    },
    "tags": []
   },
   "outputs": [
    {
     "name": "stderr",
     "output_type": "stream",
     "text": [
      "Downloading: \"https://download.pytorch.org/models/efficientnet_b3_rwightman-b3899882.pth\" to /root/.cache/torch/hub/checkpoints/efficientnet_b3_rwightman-b3899882.pth\n",
      "100%|██████████| 47.2M/47.2M [00:00<00:00, 144MB/s]\n"
     ]
    },
    {
     "name": "stdout",
     "output_type": "stream",
     "text": [
      "EfficientNet(\n",
      "  (features): Sequential(\n",
      "    (0): Conv2dNormActivation(\n",
      "      (0): Conv2d(3, 40, kernel_size=(3, 3), stride=(2, 2), padding=(1, 1), bias=False)\n",
      "      (1): BatchNorm2d(40, eps=1e-05, momentum=0.1, affine=True, track_running_stats=True)\n",
      "      (2): SiLU(inplace=True)\n",
      "    )\n",
      "    (1): Sequential(\n",
      "      (0): MBConv(\n",
      "        (block): Sequential(\n",
      "          (0): Conv2dNormActivation(\n",
      "            (0): Conv2d(40, 40, kernel_size=(3, 3), stride=(1, 1), padding=(1, 1), groups=40, bias=False)\n",
      "            (1): BatchNorm2d(40, eps=1e-05, momentum=0.1, affine=True, track_running_stats=True)\n",
      "            (2): SiLU(inplace=True)\n",
      "          )\n",
      "          (1): SqueezeExcitation(\n",
      "            (avgpool): AdaptiveAvgPool2d(output_size=1)\n",
      "            (fc1): Conv2d(40, 10, kernel_size=(1, 1), stride=(1, 1))\n",
      "            (fc2): Conv2d(10, 40, kernel_size=(1, 1), stride=(1, 1))\n",
      "            (activation): SiLU(inplace=True)\n",
      "            (scale_activation): Sigmoid()\n",
      "          )\n",
      "          (2): Conv2dNormActivation(\n",
      "            (0): Conv2d(40, 24, kernel_size=(1, 1), stride=(1, 1), bias=False)\n",
      "            (1): BatchNorm2d(24, eps=1e-05, momentum=0.1, affine=True, track_running_stats=True)\n",
      "          )\n",
      "        )\n",
      "        (stochastic_depth): StochasticDepth(p=0.0, mode=row)\n",
      "      )\n",
      "      (1): MBConv(\n",
      "        (block): Sequential(\n",
      "          (0): Conv2dNormActivation(\n",
      "            (0): Conv2d(24, 24, kernel_size=(3, 3), stride=(1, 1), padding=(1, 1), groups=24, bias=False)\n",
      "            (1): BatchNorm2d(24, eps=1e-05, momentum=0.1, affine=True, track_running_stats=True)\n",
      "            (2): SiLU(inplace=True)\n",
      "          )\n",
      "          (1): SqueezeExcitation(\n",
      "            (avgpool): AdaptiveAvgPool2d(output_size=1)\n",
      "            (fc1): Conv2d(24, 6, kernel_size=(1, 1), stride=(1, 1))\n",
      "            (fc2): Conv2d(6, 24, kernel_size=(1, 1), stride=(1, 1))\n",
      "            (activation): SiLU(inplace=True)\n",
      "            (scale_activation): Sigmoid()\n",
      "          )\n",
      "          (2): Conv2dNormActivation(\n",
      "            (0): Conv2d(24, 24, kernel_size=(1, 1), stride=(1, 1), bias=False)\n",
      "            (1): BatchNorm2d(24, eps=1e-05, momentum=0.1, affine=True, track_running_stats=True)\n",
      "          )\n",
      "        )\n",
      "        (stochastic_depth): StochasticDepth(p=0.007692307692307693, mode=row)\n",
      "      )\n",
      "    )\n",
      "    (2): Sequential(\n",
      "      (0): MBConv(\n",
      "        (block): Sequential(\n",
      "          (0): Conv2dNormActivation(\n",
      "            (0): Conv2d(24, 144, kernel_size=(1, 1), stride=(1, 1), bias=False)\n",
      "            (1): BatchNorm2d(144, eps=1e-05, momentum=0.1, affine=True, track_running_stats=True)\n",
      "            (2): SiLU(inplace=True)\n",
      "          )\n",
      "          (1): Conv2dNormActivation(\n",
      "            (0): Conv2d(144, 144, kernel_size=(3, 3), stride=(2, 2), padding=(1, 1), groups=144, bias=False)\n",
      "            (1): BatchNorm2d(144, eps=1e-05, momentum=0.1, affine=True, track_running_stats=True)\n",
      "            (2): SiLU(inplace=True)\n",
      "          )\n",
      "          (2): SqueezeExcitation(\n",
      "            (avgpool): AdaptiveAvgPool2d(output_size=1)\n",
      "            (fc1): Conv2d(144, 6, kernel_size=(1, 1), stride=(1, 1))\n",
      "            (fc2): Conv2d(6, 144, kernel_size=(1, 1), stride=(1, 1))\n",
      "            (activation): SiLU(inplace=True)\n",
      "            (scale_activation): Sigmoid()\n",
      "          )\n",
      "          (3): Conv2dNormActivation(\n",
      "            (0): Conv2d(144, 32, kernel_size=(1, 1), stride=(1, 1), bias=False)\n",
      "            (1): BatchNorm2d(32, eps=1e-05, momentum=0.1, affine=True, track_running_stats=True)\n",
      "          )\n",
      "        )\n",
      "        (stochastic_depth): StochasticDepth(p=0.015384615384615385, mode=row)\n",
      "      )\n",
      "      (1): MBConv(\n",
      "        (block): Sequential(\n",
      "          (0): Conv2dNormActivation(\n",
      "            (0): Conv2d(32, 192, kernel_size=(1, 1), stride=(1, 1), bias=False)\n",
      "            (1): BatchNorm2d(192, eps=1e-05, momentum=0.1, affine=True, track_running_stats=True)\n",
      "            (2): SiLU(inplace=True)\n",
      "          )\n",
      "          (1): Conv2dNormActivation(\n",
      "            (0): Conv2d(192, 192, kernel_size=(3, 3), stride=(1, 1), padding=(1, 1), groups=192, bias=False)\n",
      "            (1): BatchNorm2d(192, eps=1e-05, momentum=0.1, affine=True, track_running_stats=True)\n",
      "            (2): SiLU(inplace=True)\n",
      "          )\n",
      "          (2): SqueezeExcitation(\n",
      "            (avgpool): AdaptiveAvgPool2d(output_size=1)\n",
      "            (fc1): Conv2d(192, 8, kernel_size=(1, 1), stride=(1, 1))\n",
      "            (fc2): Conv2d(8, 192, kernel_size=(1, 1), stride=(1, 1))\n",
      "            (activation): SiLU(inplace=True)\n",
      "            (scale_activation): Sigmoid()\n",
      "          )\n",
      "          (3): Conv2dNormActivation(\n",
      "            (0): Conv2d(192, 32, kernel_size=(1, 1), stride=(1, 1), bias=False)\n",
      "            (1): BatchNorm2d(32, eps=1e-05, momentum=0.1, affine=True, track_running_stats=True)\n",
      "          )\n",
      "        )\n",
      "        (stochastic_depth): StochasticDepth(p=0.02307692307692308, mode=row)\n",
      "      )\n",
      "      (2): MBConv(\n",
      "        (block): Sequential(\n",
      "          (0): Conv2dNormActivation(\n",
      "            (0): Conv2d(32, 192, kernel_size=(1, 1), stride=(1, 1), bias=False)\n",
      "            (1): BatchNorm2d(192, eps=1e-05, momentum=0.1, affine=True, track_running_stats=True)\n",
      "            (2): SiLU(inplace=True)\n",
      "          )\n",
      "          (1): Conv2dNormActivation(\n",
      "            (0): Conv2d(192, 192, kernel_size=(3, 3), stride=(1, 1), padding=(1, 1), groups=192, bias=False)\n",
      "            (1): BatchNorm2d(192, eps=1e-05, momentum=0.1, affine=True, track_running_stats=True)\n",
      "            (2): SiLU(inplace=True)\n",
      "          )\n",
      "          (2): SqueezeExcitation(\n",
      "            (avgpool): AdaptiveAvgPool2d(output_size=1)\n",
      "            (fc1): Conv2d(192, 8, kernel_size=(1, 1), stride=(1, 1))\n",
      "            (fc2): Conv2d(8, 192, kernel_size=(1, 1), stride=(1, 1))\n",
      "            (activation): SiLU(inplace=True)\n",
      "            (scale_activation): Sigmoid()\n",
      "          )\n",
      "          (3): Conv2dNormActivation(\n",
      "            (0): Conv2d(192, 32, kernel_size=(1, 1), stride=(1, 1), bias=False)\n",
      "            (1): BatchNorm2d(32, eps=1e-05, momentum=0.1, affine=True, track_running_stats=True)\n",
      "          )\n",
      "        )\n",
      "        (stochastic_depth): StochasticDepth(p=0.03076923076923077, mode=row)\n",
      "      )\n",
      "    )\n",
      "    (3): Sequential(\n",
      "      (0): MBConv(\n",
      "        (block): Sequential(\n",
      "          (0): Conv2dNormActivation(\n",
      "            (0): Conv2d(32, 192, kernel_size=(1, 1), stride=(1, 1), bias=False)\n",
      "            (1): BatchNorm2d(192, eps=1e-05, momentum=0.1, affine=True, track_running_stats=True)\n",
      "            (2): SiLU(inplace=True)\n",
      "          )\n",
      "          (1): Conv2dNormActivation(\n",
      "            (0): Conv2d(192, 192, kernel_size=(5, 5), stride=(2, 2), padding=(2, 2), groups=192, bias=False)\n",
      "            (1): BatchNorm2d(192, eps=1e-05, momentum=0.1, affine=True, track_running_stats=True)\n",
      "            (2): SiLU(inplace=True)\n",
      "          )\n",
      "          (2): SqueezeExcitation(\n",
      "            (avgpool): AdaptiveAvgPool2d(output_size=1)\n",
      "            (fc1): Conv2d(192, 8, kernel_size=(1, 1), stride=(1, 1))\n",
      "            (fc2): Conv2d(8, 192, kernel_size=(1, 1), stride=(1, 1))\n",
      "            (activation): SiLU(inplace=True)\n",
      "            (scale_activation): Sigmoid()\n",
      "          )\n",
      "          (3): Conv2dNormActivation(\n",
      "            (0): Conv2d(192, 48, kernel_size=(1, 1), stride=(1, 1), bias=False)\n",
      "            (1): BatchNorm2d(48, eps=1e-05, momentum=0.1, affine=True, track_running_stats=True)\n",
      "          )\n",
      "        )\n",
      "        (stochastic_depth): StochasticDepth(p=0.038461538461538464, mode=row)\n",
      "      )\n",
      "      (1): MBConv(\n",
      "        (block): Sequential(\n",
      "          (0): Conv2dNormActivation(\n",
      "            (0): Conv2d(48, 288, kernel_size=(1, 1), stride=(1, 1), bias=False)\n",
      "            (1): BatchNorm2d(288, eps=1e-05, momentum=0.1, affine=True, track_running_stats=True)\n",
      "            (2): SiLU(inplace=True)\n",
      "          )\n",
      "          (1): Conv2dNormActivation(\n",
      "            (0): Conv2d(288, 288, kernel_size=(5, 5), stride=(1, 1), padding=(2, 2), groups=288, bias=False)\n",
      "            (1): BatchNorm2d(288, eps=1e-05, momentum=0.1, affine=True, track_running_stats=True)\n",
      "            (2): SiLU(inplace=True)\n",
      "          )\n",
      "          (2): SqueezeExcitation(\n",
      "            (avgpool): AdaptiveAvgPool2d(output_size=1)\n",
      "            (fc1): Conv2d(288, 12, kernel_size=(1, 1), stride=(1, 1))\n",
      "            (fc2): Conv2d(12, 288, kernel_size=(1, 1), stride=(1, 1))\n",
      "            (activation): SiLU(inplace=True)\n",
      "            (scale_activation): Sigmoid()\n",
      "          )\n",
      "          (3): Conv2dNormActivation(\n",
      "            (0): Conv2d(288, 48, kernel_size=(1, 1), stride=(1, 1), bias=False)\n",
      "            (1): BatchNorm2d(48, eps=1e-05, momentum=0.1, affine=True, track_running_stats=True)\n",
      "          )\n",
      "        )\n",
      "        (stochastic_depth): StochasticDepth(p=0.04615384615384616, mode=row)\n",
      "      )\n",
      "      (2): MBConv(\n",
      "        (block): Sequential(\n",
      "          (0): Conv2dNormActivation(\n",
      "            (0): Conv2d(48, 288, kernel_size=(1, 1), stride=(1, 1), bias=False)\n",
      "            (1): BatchNorm2d(288, eps=1e-05, momentum=0.1, affine=True, track_running_stats=True)\n",
      "            (2): SiLU(inplace=True)\n",
      "          )\n",
      "          (1): Conv2dNormActivation(\n",
      "            (0): Conv2d(288, 288, kernel_size=(5, 5), stride=(1, 1), padding=(2, 2), groups=288, bias=False)\n",
      "            (1): BatchNorm2d(288, eps=1e-05, momentum=0.1, affine=True, track_running_stats=True)\n",
      "            (2): SiLU(inplace=True)\n",
      "          )\n",
      "          (2): SqueezeExcitation(\n",
      "            (avgpool): AdaptiveAvgPool2d(output_size=1)\n",
      "            (fc1): Conv2d(288, 12, kernel_size=(1, 1), stride=(1, 1))\n",
      "            (fc2): Conv2d(12, 288, kernel_size=(1, 1), stride=(1, 1))\n",
      "            (activation): SiLU(inplace=True)\n",
      "            (scale_activation): Sigmoid()\n",
      "          )\n",
      "          (3): Conv2dNormActivation(\n",
      "            (0): Conv2d(288, 48, kernel_size=(1, 1), stride=(1, 1), bias=False)\n",
      "            (1): BatchNorm2d(48, eps=1e-05, momentum=0.1, affine=True, track_running_stats=True)\n",
      "          )\n",
      "        )\n",
      "        (stochastic_depth): StochasticDepth(p=0.05384615384615385, mode=row)\n",
      "      )\n",
      "    )\n",
      "    (4): Sequential(\n",
      "      (0): MBConv(\n",
      "        (block): Sequential(\n",
      "          (0): Conv2dNormActivation(\n",
      "            (0): Conv2d(48, 288, kernel_size=(1, 1), stride=(1, 1), bias=False)\n",
      "            (1): BatchNorm2d(288, eps=1e-05, momentum=0.1, affine=True, track_running_stats=True)\n",
      "            (2): SiLU(inplace=True)\n",
      "          )\n",
      "          (1): Conv2dNormActivation(\n",
      "            (0): Conv2d(288, 288, kernel_size=(3, 3), stride=(2, 2), padding=(1, 1), groups=288, bias=False)\n",
      "            (1): BatchNorm2d(288, eps=1e-05, momentum=0.1, affine=True, track_running_stats=True)\n",
      "            (2): SiLU(inplace=True)\n",
      "          )\n",
      "          (2): SqueezeExcitation(\n",
      "            (avgpool): AdaptiveAvgPool2d(output_size=1)\n",
      "            (fc1): Conv2d(288, 12, kernel_size=(1, 1), stride=(1, 1))\n",
      "            (fc2): Conv2d(12, 288, kernel_size=(1, 1), stride=(1, 1))\n",
      "            (activation): SiLU(inplace=True)\n",
      "            (scale_activation): Sigmoid()\n",
      "          )\n",
      "          (3): Conv2dNormActivation(\n",
      "            (0): Conv2d(288, 96, kernel_size=(1, 1), stride=(1, 1), bias=False)\n",
      "            (1): BatchNorm2d(96, eps=1e-05, momentum=0.1, affine=True, track_running_stats=True)\n",
      "          )\n",
      "        )\n",
      "        (stochastic_depth): StochasticDepth(p=0.06153846153846154, mode=row)\n",
      "      )\n",
      "      (1): MBConv(\n",
      "        (block): Sequential(\n",
      "          (0): Conv2dNormActivation(\n",
      "            (0): Conv2d(96, 576, kernel_size=(1, 1), stride=(1, 1), bias=False)\n",
      "            (1): BatchNorm2d(576, eps=1e-05, momentum=0.1, affine=True, track_running_stats=True)\n",
      "            (2): SiLU(inplace=True)\n",
      "          )\n",
      "          (1): Conv2dNormActivation(\n",
      "            (0): Conv2d(576, 576, kernel_size=(3, 3), stride=(1, 1), padding=(1, 1), groups=576, bias=False)\n",
      "            (1): BatchNorm2d(576, eps=1e-05, momentum=0.1, affine=True, track_running_stats=True)\n",
      "            (2): SiLU(inplace=True)\n",
      "          )\n",
      "          (2): SqueezeExcitation(\n",
      "            (avgpool): AdaptiveAvgPool2d(output_size=1)\n",
      "            (fc1): Conv2d(576, 24, kernel_size=(1, 1), stride=(1, 1))\n",
      "            (fc2): Conv2d(24, 576, kernel_size=(1, 1), stride=(1, 1))\n",
      "            (activation): SiLU(inplace=True)\n",
      "            (scale_activation): Sigmoid()\n",
      "          )\n",
      "          (3): Conv2dNormActivation(\n",
      "            (0): Conv2d(576, 96, kernel_size=(1, 1), stride=(1, 1), bias=False)\n",
      "            (1): BatchNorm2d(96, eps=1e-05, momentum=0.1, affine=True, track_running_stats=True)\n",
      "          )\n",
      "        )\n",
      "        (stochastic_depth): StochasticDepth(p=0.06923076923076923, mode=row)\n",
      "      )\n",
      "      (2): MBConv(\n",
      "        (block): Sequential(\n",
      "          (0): Conv2dNormActivation(\n",
      "            (0): Conv2d(96, 576, kernel_size=(1, 1), stride=(1, 1), bias=False)\n",
      "            (1): BatchNorm2d(576, eps=1e-05, momentum=0.1, affine=True, track_running_stats=True)\n",
      "            (2): SiLU(inplace=True)\n",
      "          )\n",
      "          (1): Conv2dNormActivation(\n",
      "            (0): Conv2d(576, 576, kernel_size=(3, 3), stride=(1, 1), padding=(1, 1), groups=576, bias=False)\n",
      "            (1): BatchNorm2d(576, eps=1e-05, momentum=0.1, affine=True, track_running_stats=True)\n",
      "            (2): SiLU(inplace=True)\n",
      "          )\n",
      "          (2): SqueezeExcitation(\n",
      "            (avgpool): AdaptiveAvgPool2d(output_size=1)\n",
      "            (fc1): Conv2d(576, 24, kernel_size=(1, 1), stride=(1, 1))\n",
      "            (fc2): Conv2d(24, 576, kernel_size=(1, 1), stride=(1, 1))\n",
      "            (activation): SiLU(inplace=True)\n",
      "            (scale_activation): Sigmoid()\n",
      "          )\n",
      "          (3): Conv2dNormActivation(\n",
      "            (0): Conv2d(576, 96, kernel_size=(1, 1), stride=(1, 1), bias=False)\n",
      "            (1): BatchNorm2d(96, eps=1e-05, momentum=0.1, affine=True, track_running_stats=True)\n",
      "          )\n",
      "        )\n",
      "        (stochastic_depth): StochasticDepth(p=0.07692307692307693, mode=row)\n",
      "      )\n",
      "      (3): MBConv(\n",
      "        (block): Sequential(\n",
      "          (0): Conv2dNormActivation(\n",
      "            (0): Conv2d(96, 576, kernel_size=(1, 1), stride=(1, 1), bias=False)\n",
      "            (1): BatchNorm2d(576, eps=1e-05, momentum=0.1, affine=True, track_running_stats=True)\n",
      "            (2): SiLU(inplace=True)\n",
      "          )\n",
      "          (1): Conv2dNormActivation(\n",
      "            (0): Conv2d(576, 576, kernel_size=(3, 3), stride=(1, 1), padding=(1, 1), groups=576, bias=False)\n",
      "            (1): BatchNorm2d(576, eps=1e-05, momentum=0.1, affine=True, track_running_stats=True)\n",
      "            (2): SiLU(inplace=True)\n",
      "          )\n",
      "          (2): SqueezeExcitation(\n",
      "            (avgpool): AdaptiveAvgPool2d(output_size=1)\n",
      "            (fc1): Conv2d(576, 24, kernel_size=(1, 1), stride=(1, 1))\n",
      "            (fc2): Conv2d(24, 576, kernel_size=(1, 1), stride=(1, 1))\n",
      "            (activation): SiLU(inplace=True)\n",
      "            (scale_activation): Sigmoid()\n",
      "          )\n",
      "          (3): Conv2dNormActivation(\n",
      "            (0): Conv2d(576, 96, kernel_size=(1, 1), stride=(1, 1), bias=False)\n",
      "            (1): BatchNorm2d(96, eps=1e-05, momentum=0.1, affine=True, track_running_stats=True)\n",
      "          )\n",
      "        )\n",
      "        (stochastic_depth): StochasticDepth(p=0.08461538461538462, mode=row)\n",
      "      )\n",
      "      (4): MBConv(\n",
      "        (block): Sequential(\n",
      "          (0): Conv2dNormActivation(\n",
      "            (0): Conv2d(96, 576, kernel_size=(1, 1), stride=(1, 1), bias=False)\n",
      "            (1): BatchNorm2d(576, eps=1e-05, momentum=0.1, affine=True, track_running_stats=True)\n",
      "            (2): SiLU(inplace=True)\n",
      "          )\n",
      "          (1): Conv2dNormActivation(\n",
      "            (0): Conv2d(576, 576, kernel_size=(3, 3), stride=(1, 1), padding=(1, 1), groups=576, bias=False)\n",
      "            (1): BatchNorm2d(576, eps=1e-05, momentum=0.1, affine=True, track_running_stats=True)\n",
      "            (2): SiLU(inplace=True)\n",
      "          )\n",
      "          (2): SqueezeExcitation(\n",
      "            (avgpool): AdaptiveAvgPool2d(output_size=1)\n",
      "            (fc1): Conv2d(576, 24, kernel_size=(1, 1), stride=(1, 1))\n",
      "            (fc2): Conv2d(24, 576, kernel_size=(1, 1), stride=(1, 1))\n",
      "            (activation): SiLU(inplace=True)\n",
      "            (scale_activation): Sigmoid()\n",
      "          )\n",
      "          (3): Conv2dNormActivation(\n",
      "            (0): Conv2d(576, 96, kernel_size=(1, 1), stride=(1, 1), bias=False)\n",
      "            (1): BatchNorm2d(96, eps=1e-05, momentum=0.1, affine=True, track_running_stats=True)\n",
      "          )\n",
      "        )\n",
      "        (stochastic_depth): StochasticDepth(p=0.09230769230769233, mode=row)\n",
      "      )\n",
      "    )\n",
      "    (5): Sequential(\n",
      "      (0): MBConv(\n",
      "        (block): Sequential(\n",
      "          (0): Conv2dNormActivation(\n",
      "            (0): Conv2d(96, 576, kernel_size=(1, 1), stride=(1, 1), bias=False)\n",
      "            (1): BatchNorm2d(576, eps=1e-05, momentum=0.1, affine=True, track_running_stats=True)\n",
      "            (2): SiLU(inplace=True)\n",
      "          )\n",
      "          (1): Conv2dNormActivation(\n",
      "            (0): Conv2d(576, 576, kernel_size=(5, 5), stride=(1, 1), padding=(2, 2), groups=576, bias=False)\n",
      "            (1): BatchNorm2d(576, eps=1e-05, momentum=0.1, affine=True, track_running_stats=True)\n",
      "            (2): SiLU(inplace=True)\n",
      "          )\n",
      "          (2): SqueezeExcitation(\n",
      "            (avgpool): AdaptiveAvgPool2d(output_size=1)\n",
      "            (fc1): Conv2d(576, 24, kernel_size=(1, 1), stride=(1, 1))\n",
      "            (fc2): Conv2d(24, 576, kernel_size=(1, 1), stride=(1, 1))\n",
      "            (activation): SiLU(inplace=True)\n",
      "            (scale_activation): Sigmoid()\n",
      "          )\n",
      "          (3): Conv2dNormActivation(\n",
      "            (0): Conv2d(576, 136, kernel_size=(1, 1), stride=(1, 1), bias=False)\n",
      "            (1): BatchNorm2d(136, eps=1e-05, momentum=0.1, affine=True, track_running_stats=True)\n",
      "          )\n",
      "        )\n",
      "        (stochastic_depth): StochasticDepth(p=0.1, mode=row)\n",
      "      )\n",
      "      (1): MBConv(\n",
      "        (block): Sequential(\n",
      "          (0): Conv2dNormActivation(\n",
      "            (0): Conv2d(136, 816, kernel_size=(1, 1), stride=(1, 1), bias=False)\n",
      "            (1): BatchNorm2d(816, eps=1e-05, momentum=0.1, affine=True, track_running_stats=True)\n",
      "            (2): SiLU(inplace=True)\n",
      "          )\n",
      "          (1): Conv2dNormActivation(\n",
      "            (0): Conv2d(816, 816, kernel_size=(5, 5), stride=(1, 1), padding=(2, 2), groups=816, bias=False)\n",
      "            (1): BatchNorm2d(816, eps=1e-05, momentum=0.1, affine=True, track_running_stats=True)\n",
      "            (2): SiLU(inplace=True)\n",
      "          )\n",
      "          (2): SqueezeExcitation(\n",
      "            (avgpool): AdaptiveAvgPool2d(output_size=1)\n",
      "            (fc1): Conv2d(816, 34, kernel_size=(1, 1), stride=(1, 1))\n",
      "            (fc2): Conv2d(34, 816, kernel_size=(1, 1), stride=(1, 1))\n",
      "            (activation): SiLU(inplace=True)\n",
      "            (scale_activation): Sigmoid()\n",
      "          )\n",
      "          (3): Conv2dNormActivation(\n",
      "            (0): Conv2d(816, 136, kernel_size=(1, 1), stride=(1, 1), bias=False)\n",
      "            (1): BatchNorm2d(136, eps=1e-05, momentum=0.1, affine=True, track_running_stats=True)\n",
      "          )\n",
      "        )\n",
      "        (stochastic_depth): StochasticDepth(p=0.1076923076923077, mode=row)\n",
      "      )\n",
      "      (2): MBConv(\n",
      "        (block): Sequential(\n",
      "          (0): Conv2dNormActivation(\n",
      "            (0): Conv2d(136, 816, kernel_size=(1, 1), stride=(1, 1), bias=False)\n",
      "            (1): BatchNorm2d(816, eps=1e-05, momentum=0.1, affine=True, track_running_stats=True)\n",
      "            (2): SiLU(inplace=True)\n",
      "          )\n",
      "          (1): Conv2dNormActivation(\n",
      "            (0): Conv2d(816, 816, kernel_size=(5, 5), stride=(1, 1), padding=(2, 2), groups=816, bias=False)\n",
      "            (1): BatchNorm2d(816, eps=1e-05, momentum=0.1, affine=True, track_running_stats=True)\n",
      "            (2): SiLU(inplace=True)\n",
      "          )\n",
      "          (2): SqueezeExcitation(\n",
      "            (avgpool): AdaptiveAvgPool2d(output_size=1)\n",
      "            (fc1): Conv2d(816, 34, kernel_size=(1, 1), stride=(1, 1))\n",
      "            (fc2): Conv2d(34, 816, kernel_size=(1, 1), stride=(1, 1))\n",
      "            (activation): SiLU(inplace=True)\n",
      "            (scale_activation): Sigmoid()\n",
      "          )\n",
      "          (3): Conv2dNormActivation(\n",
      "            (0): Conv2d(816, 136, kernel_size=(1, 1), stride=(1, 1), bias=False)\n",
      "            (1): BatchNorm2d(136, eps=1e-05, momentum=0.1, affine=True, track_running_stats=True)\n",
      "          )\n",
      "        )\n",
      "        (stochastic_depth): StochasticDepth(p=0.11538461538461539, mode=row)\n",
      "      )\n",
      "      (3): MBConv(\n",
      "        (block): Sequential(\n",
      "          (0): Conv2dNormActivation(\n",
      "            (0): Conv2d(136, 816, kernel_size=(1, 1), stride=(1, 1), bias=False)\n",
      "            (1): BatchNorm2d(816, eps=1e-05, momentum=0.1, affine=True, track_running_stats=True)\n",
      "            (2): SiLU(inplace=True)\n",
      "          )\n",
      "          (1): Conv2dNormActivation(\n",
      "            (0): Conv2d(816, 816, kernel_size=(5, 5), stride=(1, 1), padding=(2, 2), groups=816, bias=False)\n",
      "            (1): BatchNorm2d(816, eps=1e-05, momentum=0.1, affine=True, track_running_stats=True)\n",
      "            (2): SiLU(inplace=True)\n",
      "          )\n",
      "          (2): SqueezeExcitation(\n",
      "            (avgpool): AdaptiveAvgPool2d(output_size=1)\n",
      "            (fc1): Conv2d(816, 34, kernel_size=(1, 1), stride=(1, 1))\n",
      "            (fc2): Conv2d(34, 816, kernel_size=(1, 1), stride=(1, 1))\n",
      "            (activation): SiLU(inplace=True)\n",
      "            (scale_activation): Sigmoid()\n",
      "          )\n",
      "          (3): Conv2dNormActivation(\n",
      "            (0): Conv2d(816, 136, kernel_size=(1, 1), stride=(1, 1), bias=False)\n",
      "            (1): BatchNorm2d(136, eps=1e-05, momentum=0.1, affine=True, track_running_stats=True)\n",
      "          )\n",
      "        )\n",
      "        (stochastic_depth): StochasticDepth(p=0.12307692307692308, mode=row)\n",
      "      )\n",
      "      (4): MBConv(\n",
      "        (block): Sequential(\n",
      "          (0): Conv2dNormActivation(\n",
      "            (0): Conv2d(136, 816, kernel_size=(1, 1), stride=(1, 1), bias=False)\n",
      "            (1): BatchNorm2d(816, eps=1e-05, momentum=0.1, affine=True, track_running_stats=True)\n",
      "            (2): SiLU(inplace=True)\n",
      "          )\n",
      "          (1): Conv2dNormActivation(\n",
      "            (0): Conv2d(816, 816, kernel_size=(5, 5), stride=(1, 1), padding=(2, 2), groups=816, bias=False)\n",
      "            (1): BatchNorm2d(816, eps=1e-05, momentum=0.1, affine=True, track_running_stats=True)\n",
      "            (2): SiLU(inplace=True)\n",
      "          )\n",
      "          (2): SqueezeExcitation(\n",
      "            (avgpool): AdaptiveAvgPool2d(output_size=1)\n",
      "            (fc1): Conv2d(816, 34, kernel_size=(1, 1), stride=(1, 1))\n",
      "            (fc2): Conv2d(34, 816, kernel_size=(1, 1), stride=(1, 1))\n",
      "            (activation): SiLU(inplace=True)\n",
      "            (scale_activation): Sigmoid()\n",
      "          )\n",
      "          (3): Conv2dNormActivation(\n",
      "            (0): Conv2d(816, 136, kernel_size=(1, 1), stride=(1, 1), bias=False)\n",
      "            (1): BatchNorm2d(136, eps=1e-05, momentum=0.1, affine=True, track_running_stats=True)\n",
      "          )\n",
      "        )\n",
      "        (stochastic_depth): StochasticDepth(p=0.13076923076923078, mode=row)\n",
      "      )\n",
      "    )\n",
      "    (6): Sequential(\n",
      "      (0): MBConv(\n",
      "        (block): Sequential(\n",
      "          (0): Conv2dNormActivation(\n",
      "            (0): Conv2d(136, 816, kernel_size=(1, 1), stride=(1, 1), bias=False)\n",
      "            (1): BatchNorm2d(816, eps=1e-05, momentum=0.1, affine=True, track_running_stats=True)\n",
      "            (2): SiLU(inplace=True)\n",
      "          )\n",
      "          (1): Conv2dNormActivation(\n",
      "            (0): Conv2d(816, 816, kernel_size=(5, 5), stride=(2, 2), padding=(2, 2), groups=816, bias=False)\n",
      "            (1): BatchNorm2d(816, eps=1e-05, momentum=0.1, affine=True, track_running_stats=True)\n",
      "            (2): SiLU(inplace=True)\n",
      "          )\n",
      "          (2): SqueezeExcitation(\n",
      "            (avgpool): AdaptiveAvgPool2d(output_size=1)\n",
      "            (fc1): Conv2d(816, 34, kernel_size=(1, 1), stride=(1, 1))\n",
      "            (fc2): Conv2d(34, 816, kernel_size=(1, 1), stride=(1, 1))\n",
      "            (activation): SiLU(inplace=True)\n",
      "            (scale_activation): Sigmoid()\n",
      "          )\n",
      "          (3): Conv2dNormActivation(\n",
      "            (0): Conv2d(816, 232, kernel_size=(1, 1), stride=(1, 1), bias=False)\n",
      "            (1): BatchNorm2d(232, eps=1e-05, momentum=0.1, affine=True, track_running_stats=True)\n",
      "          )\n",
      "        )\n",
      "        (stochastic_depth): StochasticDepth(p=0.13846153846153847, mode=row)\n",
      "      )\n",
      "      (1): MBConv(\n",
      "        (block): Sequential(\n",
      "          (0): Conv2dNormActivation(\n",
      "            (0): Conv2d(232, 1392, kernel_size=(1, 1), stride=(1, 1), bias=False)\n",
      "            (1): BatchNorm2d(1392, eps=1e-05, momentum=0.1, affine=True, track_running_stats=True)\n",
      "            (2): SiLU(inplace=True)\n",
      "          )\n",
      "          (1): Conv2dNormActivation(\n",
      "            (0): Conv2d(1392, 1392, kernel_size=(5, 5), stride=(1, 1), padding=(2, 2), groups=1392, bias=False)\n",
      "            (1): BatchNorm2d(1392, eps=1e-05, momentum=0.1, affine=True, track_running_stats=True)\n",
      "            (2): SiLU(inplace=True)\n",
      "          )\n",
      "          (2): SqueezeExcitation(\n",
      "            (avgpool): AdaptiveAvgPool2d(output_size=1)\n",
      "            (fc1): Conv2d(1392, 58, kernel_size=(1, 1), stride=(1, 1))\n",
      "            (fc2): Conv2d(58, 1392, kernel_size=(1, 1), stride=(1, 1))\n",
      "            (activation): SiLU(inplace=True)\n",
      "            (scale_activation): Sigmoid()\n",
      "          )\n",
      "          (3): Conv2dNormActivation(\n",
      "            (0): Conv2d(1392, 232, kernel_size=(1, 1), stride=(1, 1), bias=False)\n",
      "            (1): BatchNorm2d(232, eps=1e-05, momentum=0.1, affine=True, track_running_stats=True)\n",
      "          )\n",
      "        )\n",
      "        (stochastic_depth): StochasticDepth(p=0.14615384615384616, mode=row)\n",
      "      )\n",
      "      (2): MBConv(\n",
      "        (block): Sequential(\n",
      "          (0): Conv2dNormActivation(\n",
      "            (0): Conv2d(232, 1392, kernel_size=(1, 1), stride=(1, 1), bias=False)\n",
      "            (1): BatchNorm2d(1392, eps=1e-05, momentum=0.1, affine=True, track_running_stats=True)\n",
      "            (2): SiLU(inplace=True)\n",
      "          )\n",
      "          (1): Conv2dNormActivation(\n",
      "            (0): Conv2d(1392, 1392, kernel_size=(5, 5), stride=(1, 1), padding=(2, 2), groups=1392, bias=False)\n",
      "            (1): BatchNorm2d(1392, eps=1e-05, momentum=0.1, affine=True, track_running_stats=True)\n",
      "            (2): SiLU(inplace=True)\n",
      "          )\n",
      "          (2): SqueezeExcitation(\n",
      "            (avgpool): AdaptiveAvgPool2d(output_size=1)\n",
      "            (fc1): Conv2d(1392, 58, kernel_size=(1, 1), stride=(1, 1))\n",
      "            (fc2): Conv2d(58, 1392, kernel_size=(1, 1), stride=(1, 1))\n",
      "            (activation): SiLU(inplace=True)\n",
      "            (scale_activation): Sigmoid()\n",
      "          )\n",
      "          (3): Conv2dNormActivation(\n",
      "            (0): Conv2d(1392, 232, kernel_size=(1, 1), stride=(1, 1), bias=False)\n",
      "            (1): BatchNorm2d(232, eps=1e-05, momentum=0.1, affine=True, track_running_stats=True)\n",
      "          )\n",
      "        )\n",
      "        (stochastic_depth): StochasticDepth(p=0.15384615384615385, mode=row)\n",
      "      )\n",
      "      (3): MBConv(\n",
      "        (block): Sequential(\n",
      "          (0): Conv2dNormActivation(\n",
      "            (0): Conv2d(232, 1392, kernel_size=(1, 1), stride=(1, 1), bias=False)\n",
      "            (1): BatchNorm2d(1392, eps=1e-05, momentum=0.1, affine=True, track_running_stats=True)\n",
      "            (2): SiLU(inplace=True)\n",
      "          )\n",
      "          (1): Conv2dNormActivation(\n",
      "            (0): Conv2d(1392, 1392, kernel_size=(5, 5), stride=(1, 1), padding=(2, 2), groups=1392, bias=False)\n",
      "            (1): BatchNorm2d(1392, eps=1e-05, momentum=0.1, affine=True, track_running_stats=True)\n",
      "            (2): SiLU(inplace=True)\n",
      "          )\n",
      "          (2): SqueezeExcitation(\n",
      "            (avgpool): AdaptiveAvgPool2d(output_size=1)\n",
      "            (fc1): Conv2d(1392, 58, kernel_size=(1, 1), stride=(1, 1))\n",
      "            (fc2): Conv2d(58, 1392, kernel_size=(1, 1), stride=(1, 1))\n",
      "            (activation): SiLU(inplace=True)\n",
      "            (scale_activation): Sigmoid()\n",
      "          )\n",
      "          (3): Conv2dNormActivation(\n",
      "            (0): Conv2d(1392, 232, kernel_size=(1, 1), stride=(1, 1), bias=False)\n",
      "            (1): BatchNorm2d(232, eps=1e-05, momentum=0.1, affine=True, track_running_stats=True)\n",
      "          )\n",
      "        )\n",
      "        (stochastic_depth): StochasticDepth(p=0.16153846153846155, mode=row)\n",
      "      )\n",
      "      (4): MBConv(\n",
      "        (block): Sequential(\n",
      "          (0): Conv2dNormActivation(\n",
      "            (0): Conv2d(232, 1392, kernel_size=(1, 1), stride=(1, 1), bias=False)\n",
      "            (1): BatchNorm2d(1392, eps=1e-05, momentum=0.1, affine=True, track_running_stats=True)\n",
      "            (2): SiLU(inplace=True)\n",
      "          )\n",
      "          (1): Conv2dNormActivation(\n",
      "            (0): Conv2d(1392, 1392, kernel_size=(5, 5), stride=(1, 1), padding=(2, 2), groups=1392, bias=False)\n",
      "            (1): BatchNorm2d(1392, eps=1e-05, momentum=0.1, affine=True, track_running_stats=True)\n",
      "            (2): SiLU(inplace=True)\n",
      "          )\n",
      "          (2): SqueezeExcitation(\n",
      "            (avgpool): AdaptiveAvgPool2d(output_size=1)\n",
      "            (fc1): Conv2d(1392, 58, kernel_size=(1, 1), stride=(1, 1))\n",
      "            (fc2): Conv2d(58, 1392, kernel_size=(1, 1), stride=(1, 1))\n",
      "            (activation): SiLU(inplace=True)\n",
      "            (scale_activation): Sigmoid()\n",
      "          )\n",
      "          (3): Conv2dNormActivation(\n",
      "            (0): Conv2d(1392, 232, kernel_size=(1, 1), stride=(1, 1), bias=False)\n",
      "            (1): BatchNorm2d(232, eps=1e-05, momentum=0.1, affine=True, track_running_stats=True)\n",
      "          )\n",
      "        )\n",
      "        (stochastic_depth): StochasticDepth(p=0.16923076923076924, mode=row)\n",
      "      )\n",
      "      (5): MBConv(\n",
      "        (block): Sequential(\n",
      "          (0): Conv2dNormActivation(\n",
      "            (0): Conv2d(232, 1392, kernel_size=(1, 1), stride=(1, 1), bias=False)\n",
      "            (1): BatchNorm2d(1392, eps=1e-05, momentum=0.1, affine=True, track_running_stats=True)\n",
      "            (2): SiLU(inplace=True)\n",
      "          )\n",
      "          (1): Conv2dNormActivation(\n",
      "            (0): Conv2d(1392, 1392, kernel_size=(5, 5), stride=(1, 1), padding=(2, 2), groups=1392, bias=False)\n",
      "            (1): BatchNorm2d(1392, eps=1e-05, momentum=0.1, affine=True, track_running_stats=True)\n",
      "            (2): SiLU(inplace=True)\n",
      "          )\n",
      "          (2): SqueezeExcitation(\n",
      "            (avgpool): AdaptiveAvgPool2d(output_size=1)\n",
      "            (fc1): Conv2d(1392, 58, kernel_size=(1, 1), stride=(1, 1))\n",
      "            (fc2): Conv2d(58, 1392, kernel_size=(1, 1), stride=(1, 1))\n",
      "            (activation): SiLU(inplace=True)\n",
      "            (scale_activation): Sigmoid()\n",
      "          )\n",
      "          (3): Conv2dNormActivation(\n",
      "            (0): Conv2d(1392, 232, kernel_size=(1, 1), stride=(1, 1), bias=False)\n",
      "            (1): BatchNorm2d(232, eps=1e-05, momentum=0.1, affine=True, track_running_stats=True)\n",
      "          )\n",
      "        )\n",
      "        (stochastic_depth): StochasticDepth(p=0.17692307692307693, mode=row)\n",
      "      )\n",
      "    )\n",
      "    (7): Sequential(\n",
      "      (0): MBConv(\n",
      "        (block): Sequential(\n",
      "          (0): Conv2dNormActivation(\n",
      "            (0): Conv2d(232, 1392, kernel_size=(1, 1), stride=(1, 1), bias=False)\n",
      "            (1): BatchNorm2d(1392, eps=1e-05, momentum=0.1, affine=True, track_running_stats=True)\n",
      "            (2): SiLU(inplace=True)\n",
      "          )\n",
      "          (1): Conv2dNormActivation(\n",
      "            (0): Conv2d(1392, 1392, kernel_size=(3, 3), stride=(1, 1), padding=(1, 1), groups=1392, bias=False)\n",
      "            (1): BatchNorm2d(1392, eps=1e-05, momentum=0.1, affine=True, track_running_stats=True)\n",
      "            (2): SiLU(inplace=True)\n",
      "          )\n",
      "          (2): SqueezeExcitation(\n",
      "            (avgpool): AdaptiveAvgPool2d(output_size=1)\n",
      "            (fc1): Conv2d(1392, 58, kernel_size=(1, 1), stride=(1, 1))\n",
      "            (fc2): Conv2d(58, 1392, kernel_size=(1, 1), stride=(1, 1))\n",
      "            (activation): SiLU(inplace=True)\n",
      "            (scale_activation): Sigmoid()\n",
      "          )\n",
      "          (3): Conv2dNormActivation(\n",
      "            (0): Conv2d(1392, 384, kernel_size=(1, 1), stride=(1, 1), bias=False)\n",
      "            (1): BatchNorm2d(384, eps=1e-05, momentum=0.1, affine=True, track_running_stats=True)\n",
      "          )\n",
      "        )\n",
      "        (stochastic_depth): StochasticDepth(p=0.18461538461538465, mode=row)\n",
      "      )\n",
      "      (1): MBConv(\n",
      "        (block): Sequential(\n",
      "          (0): Conv2dNormActivation(\n",
      "            (0): Conv2d(384, 2304, kernel_size=(1, 1), stride=(1, 1), bias=False)\n",
      "            (1): BatchNorm2d(2304, eps=1e-05, momentum=0.1, affine=True, track_running_stats=True)\n",
      "            (2): SiLU(inplace=True)\n",
      "          )\n",
      "          (1): Conv2dNormActivation(\n",
      "            (0): Conv2d(2304, 2304, kernel_size=(3, 3), stride=(1, 1), padding=(1, 1), groups=2304, bias=False)\n",
      "            (1): BatchNorm2d(2304, eps=1e-05, momentum=0.1, affine=True, track_running_stats=True)\n",
      "            (2): SiLU(inplace=True)\n",
      "          )\n",
      "          (2): SqueezeExcitation(\n",
      "            (avgpool): AdaptiveAvgPool2d(output_size=1)\n",
      "            (fc1): Conv2d(2304, 96, kernel_size=(1, 1), stride=(1, 1))\n",
      "            (fc2): Conv2d(96, 2304, kernel_size=(1, 1), stride=(1, 1))\n",
      "            (activation): SiLU(inplace=True)\n",
      "            (scale_activation): Sigmoid()\n",
      "          )\n",
      "          (3): Conv2dNormActivation(\n",
      "            (0): Conv2d(2304, 384, kernel_size=(1, 1), stride=(1, 1), bias=False)\n",
      "            (1): BatchNorm2d(384, eps=1e-05, momentum=0.1, affine=True, track_running_stats=True)\n",
      "          )\n",
      "        )\n",
      "        (stochastic_depth): StochasticDepth(p=0.19230769230769232, mode=row)\n",
      "      )\n",
      "    )\n",
      "    (8): Conv2dNormActivation(\n",
      "      (0): Conv2d(384, 1536, kernel_size=(1, 1), stride=(1, 1), bias=False)\n",
      "      (1): BatchNorm2d(1536, eps=1e-05, momentum=0.1, affine=True, track_running_stats=True)\n",
      "      (2): SiLU(inplace=True)\n",
      "    )\n",
      "  )\n",
      "  (avgpool): AdaptiveAvgPool2d(output_size=1)\n",
      "  (classifier): Sequential(\n",
      "    (0): Dropout(p=0.3, inplace=True)\n",
      "    (1): Linear(in_features=1536, out_features=10, bias=True)\n",
      "  )\n",
      ")\n"
     ]
    }
   ],
   "source": [
    "from torchvision.models import efficientnet_b3, EfficientNet_B3_Weights\n",
    "weights = EfficientNet_B3_Weights.DEFAULT\n",
    "model_freeze = efficientnet_b3(weights=weights)\n",
    "for param in model_freeze.parameters():\n",
    "    param.requires_grad = False\n",
    "#model_freeze.classifier[1] = nn.Linear(1536,10)\n",
    "model_freeze.classifier = torch.nn.Sequential(\n",
    "    torch.nn.Dropout(p=0.3, inplace=True), \n",
    "    torch.nn.Linear(1536,10))\n",
    "print(model_freeze)\n",
    "#print(model_freeze.classifier[1].weight.requires_grad)"
   ]
  },
  {
   "cell_type": "code",
   "execution_count": 24,
   "id": "825b72a9",
   "metadata": {
    "execution": {
     "iopub.execute_input": "2024-04-20T09:37:07.711243Z",
     "iopub.status.busy": "2024-04-20T09:37:07.710918Z",
     "iopub.status.idle": "2024-04-20T09:37:07.751011Z",
     "shell.execute_reply": "2024-04-20T09:37:07.750119Z"
    },
    "papermill": {
     "duration": 0.062173,
     "end_time": "2024-04-20T09:37:07.753164",
     "exception": false,
     "start_time": "2024-04-20T09:37:07.690991",
     "status": "completed"
    },
    "tags": []
   },
   "outputs": [],
   "source": [
    "\n",
    "model_freeze.to(device)\n",
    "loss = nn.CrossEntropyLoss()\n",
    "optimizer = optim.Adam(model_freeze.parameters(),lr= 0.001)\n",
    "scheduler = optim.lr_scheduler.ReduceLROnPlateau(optimizer,'min',patience = 5,factor = 0.1,verbose=True)\n",
    "earlystopping = EarlyStopping()"
   ]
  },
  {
   "cell_type": "code",
   "execution_count": 25,
   "id": "02756945",
   "metadata": {
    "execution": {
     "iopub.execute_input": "2024-04-20T09:37:07.792785Z",
     "iopub.status.busy": "2024-04-20T09:37:07.792478Z",
     "iopub.status.idle": "2024-04-20T09:48:05.400491Z",
     "shell.execute_reply": "2024-04-20T09:48:05.399455Z"
    },
    "papermill": {
     "duration": 657.65008,
     "end_time": "2024-04-20T09:48:05.422335",
     "exception": false,
     "start_time": "2024-04-20T09:37:07.772255",
     "status": "completed"
    },
    "tags": []
   },
   "outputs": [
    {
     "name": "stdout",
     "output_type": "stream",
     "text": [
      "For epoch   4 || Training Loss 2.102 || acc 0.255 || Testing Loss 2.419 || Test acc 0.285\n",
      "For epoch   9 || Training Loss 2.106 || acc 0.254 || Testing Loss 2.638 || Test acc 0.284\n",
      "Early Stopping Activated\n"
     ]
    }
   ],
   "source": [
    "hist_= tune_model(100,model_freeze,trainloader_,valloader_,\\\n",
    "               loss,optimizer,device,scheduler,earlystopping=earlystopping)"
   ]
  },
  {
   "cell_type": "markdown",
   "id": "99127151",
   "metadata": {
    "papermill": {
     "duration": 0.019922,
     "end_time": "2024-04-20T09:48:05.461549",
     "exception": false,
     "start_time": "2024-04-20T09:48:05.441627",
     "status": "completed"
    },
    "tags": []
   },
   "source": [
    "part 2: update all the layers "
   ]
  },
  {
   "cell_type": "code",
   "execution_count": 26,
   "id": "29e62892",
   "metadata": {
    "execution": {
     "iopub.execute_input": "2024-04-20T09:48:05.501486Z",
     "iopub.status.busy": "2024-04-20T09:48:05.501199Z",
     "iopub.status.idle": "2024-04-20T09:48:06.022439Z",
     "shell.execute_reply": "2024-04-20T09:48:06.021606Z"
    },
    "papermill": {
     "duration": 0.54407,
     "end_time": "2024-04-20T09:48:06.025264",
     "exception": false,
     "start_time": "2024-04-20T09:48:05.481194",
     "status": "completed"
    },
    "tags": []
   },
   "outputs": [],
   "source": [
    "weights = EfficientNet_B3_Weights.DEFAULT\n",
    "model_free = efficientnet_b3(weights=weights)\n",
    "model_free.classifier[1] = nn.Linear(1536,10)\n",
    "model_free.to(device)\n",
    "loss = nn.CrossEntropyLoss()\n",
    "optimizer = optim.Adam(model_free.parameters(),lr= 0.001)\n",
    "scheduler = optim.lr_scheduler.ReduceLROnPlateau(optimizer,'min',patience = 5,factor = 0.1,verbose=True)\n",
    "earlystopping = EarlyStopping()"
   ]
  },
  {
   "cell_type": "code",
   "execution_count": 27,
   "id": "79f48c5b",
   "metadata": {
    "execution": {
     "iopub.execute_input": "2024-04-20T09:48:06.065889Z",
     "iopub.status.busy": "2024-04-20T09:48:06.065298Z",
     "iopub.status.idle": "2024-04-20T11:23:12.654286Z",
     "shell.execute_reply": "2024-04-20T11:23:12.653282Z"
    },
    "papermill": {
     "duration": 5706.632086,
     "end_time": "2024-04-20T11:23:12.677378",
     "exception": false,
     "start_time": "2024-04-20T09:48:06.045292",
     "status": "completed"
    },
    "tags": []
   },
   "outputs": [
    {
     "name": "stdout",
     "output_type": "stream",
     "text": [
      "For epoch   4 || Training Loss 0.522 || acc 0.823 || Testing Loss 0.392 || Test acc 0.866\n",
      "For epoch   9 || Training Loss 0.355 || acc 0.879 || Testing Loss 0.272 || Test acc 0.909\n",
      "For epoch  14 || Training Loss 0.284 || acc 0.902 || Testing Loss 0.189 || Test acc 0.935\n",
      "For epoch  19 || Training Loss 0.224 || acc 0.925 || Testing Loss 0.136 || Test acc 0.954\n",
      "For epoch  24 || Training Loss 0.210 || acc 0.930 || Testing Loss 0.144 || Test acc 0.951\n",
      "For epoch  29 || Training Loss 0.171 || acc 0.944 || Testing Loss 0.095 || Test acc 0.968\n",
      "For epoch  34 || Training Loss 0.134 || acc 0.954 || Testing Loss 0.076 || Test acc 0.974\n",
      "For epoch  39 || Training Loss 0.131 || acc 0.957 || Testing Loss 0.072 || Test acc 0.975\n",
      "For epoch  44 || Training Loss 0.145 || acc 0.953 || Testing Loss 0.096 || Test acc 0.968\n",
      "For epoch  49 || Training Loss 0.099 || acc 0.967 || Testing Loss 0.063 || Test acc 0.979\n",
      "For epoch  54 || Training Loss 0.090 || acc 0.970 || Testing Loss 0.052 || Test acc 0.982\n",
      "For epoch  59 || Training Loss 0.093 || acc 0.969 || Testing Loss 0.055 || Test acc 0.981\n",
      "For epoch  64 || Training Loss 0.105 || acc 0.965 || Testing Loss 0.063 || Test acc 0.980\n",
      "For epoch  69 || Training Loss 0.078 || acc 0.975 || Testing Loss 0.038 || Test acc 0.988\n",
      "For epoch  74 || Training Loss 0.069 || acc 0.977 || Testing Loss 0.037 || Test acc 0.988\n",
      "For epoch  79 || Training Loss 0.126 || acc 0.959 || Testing Loss 0.056 || Test acc 0.982\n",
      "Early Stopping Activated\n"
     ]
    }
   ],
   "source": [
    "hist_= tune_model(100,model_free,trainloader_,valloader_,\\\n",
    "               loss,optimizer,device,scheduler,earlystopping=earlystopping)"
   ]
  }
 ],
 "metadata": {
  "colab": {
   "provenance": []
  },
  "kaggle": {
   "accelerator": "nvidiaTeslaT4",
   "dataSources": [],
   "dockerImageVersionId": 30699,
   "isGpuEnabled": true,
   "isInternetEnabled": true,
   "language": "python",
   "sourceType": "notebook"
  },
  "kernelspec": {
   "display_name": "Python 3",
   "language": "python",
   "name": "python3"
  },
  "language_info": {
   "codemirror_mode": {
    "name": "ipython",
    "version": 3
   },
   "file_extension": ".py",
   "mimetype": "text/x-python",
   "name": "python",
   "nbconvert_exporter": "python",
   "pygments_lexer": "ipython3",
   "version": "3.10.13"
  },
  "papermill": {
   "default_parameters": {},
   "duration": 23258.081659,
   "end_time": "2024-04-20T11:23:15.496651",
   "environment_variables": {},
   "exception": null,
   "input_path": "__notebook__.ipynb",
   "output_path": "__notebook__.ipynb",
   "parameters": {},
   "start_time": "2024-04-20T04:55:37.414992",
   "version": "2.5.0"
  }
 },
 "nbformat": 4,
 "nbformat_minor": 5
}
